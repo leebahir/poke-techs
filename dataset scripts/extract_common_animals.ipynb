{
 "cells": [
  {
   "cell_type": "code",
   "execution_count": 37,
   "metadata": {},
   "outputs": [],
   "source": [
    "import pandas\n",
    "from distutils.dir_util import copy_tree\n",
    "import os\n",
    "\n",
    "# contains all of the two-column csv files\n",
    "csv_dir = \"C:/users/clari/downloads/animals/\"\n",
    "\n",
    "#contains images in separated folders, e.g. a mammal folder is 'D:/hacks/mammals'\n",
    "images = \"D:/hacks/\"\n",
    "animal_types = ['mammals', 'reptiles', 'amphibians', 'birds', 'insects', 'mollusks']\n",
    "csv_ext = \".csv\""
   ]
  },
  {
   "cell_type": "markdown",
   "metadata": {},
   "source": [
    "Function reads the csv corresponding to that type and creates a data frame from it."
   ]
  },
  {
   "cell_type": "code",
   "execution_count": 70,
   "metadata": {},
   "outputs": [],
   "source": [
    "def read_animal_csv(animal_type):\n",
    "    csv_file = csv_dir + animal_type + csv_ext\n",
    "    df = pandas.read_csv(csv_file)\n",
    "    df['Scientific Name'] = df['Scientific Name'].apply(lambda name: name.replace(' ', '_'))\n",
    "    return df"
   ]
  },
  {
   "cell_type": "markdown",
   "metadata": {},
   "source": [
    "Functions to extract the images of the species from the csv file of the given type.\n",
    "Results will be in a folder ex. \"D:/hacks/mammals_extracted\""
   ]
  },
  {
   "cell_type": "code",
   "execution_count": 68,
   "metadata": {},
   "outputs": [],
   "source": [
    "def extract_images(animal_df, animal_type):\n",
    "    containing_dir = images + animal_type + \"/\"\n",
    "    destination_dir = images + animal_type + \"_extracted\"\n",
    "    if(not os.path.isdir(destination_dir)):\n",
    "        os.mkdir(destination_dir)\n",
    "    for scientific_name in animal_df['Scientific Name']:\n",
    "        print(\"Processing \" + scientific_name)\n",
    "        image_dir = [candidate_dir for candidate_dir in os.listdir(containing_dir) if scientific_name in candidate_dir]\n",
    "        if(len(image_dir) > 1):\n",
    "            print(\"Duplicate\")\n",
    "        elif(len(image_dir) == 0):\n",
    "            print(\"Not found\")\n",
    "        else:\n",
    "            image_dir = containing_dir + image_dir[0]\n",
    "            copy_tree(image_dir, os.path.join(destination_dir,image_dir.split('/')[-1]))\n",
    "        \n",
    "def extract_images_from_type(animal_type):\n",
    "    extract_images(read_animal_csv(animal_type), animal_type)"
   ]
  },
  {
   "cell_type": "code",
   "execution_count": 69,
   "metadata": {},
   "outputs": [
    {
     "name": "stdout",
     "output_type": "stream",
     "text": [
      "Processing Sciurus_griseus\n",
      "Processing Sciurus_niger\n",
      "Processing Sciurus_carolinensis\n",
      "Processing Sylvilagus_floridanus\n",
      "Processing Sylvilagus_audubonii\n",
      "Processing Sylvilagus_bachmani\n",
      "Processing Canis_latrans\n",
      "Processing Felis_catus\n",
      "Processing Lynx_rufus\n",
      "Processing Rattus_rattus\n",
      "Processing Thomomys_bottae\n",
      "Processing Canis_familiaris\n",
      "Processing Canis_lupus\n",
      "Processing Equus_caballus\n",
      "Processing Equus_asinus\n",
      "Processing Bos_taurus\n",
      "Processing Sus_domesticus\n",
      "Not found\n",
      "Processing Capra_hircus\n",
      "Processing Ovis_aries\n",
      "Processing Ursus_americanus\n",
      "Processing Ursus_arctos\n",
      "Processing Procyon_lotor\n",
      "Processing Odocoileus_californicus\n",
      "Not found\n",
      "Processing Mephitis_mephitis\n",
      "Processing Didelphis_virginiana\n",
      "Processing Vulpes_vulpes\n",
      "Processing Puma_concolor\n"
     ]
    }
   ],
   "source": [
    "extract_images_from_type('mammals')"
   ]
  },
  {
   "cell_type": "code",
   "execution_count": 21,
   "metadata": {},
   "outputs": [
    {
     "data": {
      "text/plain": [
       "['$Recycle.Bin',\n",
       " '$WinREAgent',\n",
       " 'Documents and Settings',\n",
       " 'DumpStack.log.tmp',\n",
       " 'Games',\n",
       " 'hiberfil.sys',\n",
       " 'Intel',\n",
       " 'IntelOptaneData',\n",
       " 'pagefile.sys',\n",
       " 'PerfLogs',\n",
       " 'Program Files',\n",
       " 'Program Files (x86)',\n",
       " 'ProgramData',\n",
       " 'Recovery',\n",
       " 'src',\n",
       " 'swapfile.sys',\n",
       " 'System Volume Information',\n",
       " 'User Manual',\n",
       " 'Users',\n",
       " 'Windows']"
      ]
     },
     "execution_count": 21,
     "metadata": {},
     "output_type": "execute_result"
    }
   ],
   "source": []
  },
  {
   "cell_type": "code",
   "execution_count": null,
   "metadata": {},
   "outputs": [],
   "source": []
  }
 ],
 "metadata": {
  "kernelspec": {
   "display_name": "Python 3",
   "language": "python",
   "name": "python3"
  },
  "language_info": {
   "codemirror_mode": {
    "name": "ipython",
    "version": 3
   },
   "file_extension": ".py",
   "mimetype": "text/x-python",
   "name": "python",
   "nbconvert_exporter": "python",
   "pygments_lexer": "ipython3",
   "version": "3.7.4"
  }
 },
 "nbformat": 4,
 "nbformat_minor": 2
}
